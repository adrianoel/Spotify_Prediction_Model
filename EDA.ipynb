{
 "cells": [
  {
   "cell_type": "markdown",
   "id": "b9a1a4e5",
   "metadata": {},
   "source": [
    "# EDA of the spotify dataset from kaggle"
   ]
  },
  {
   "cell_type": "markdown",
   "id": "0ea32614",
   "metadata": {},
   "source": [
    "Columns description:\n",
    "- track_id: The Spotify ID for the track\n",
    "- artists: The artists' names who performed the track. If there is more than one artist, they are separated by a ;\n",
    "- album_name: The album name in which the track appears\n",
    "- track_name: Name of the track\n",
    "- popularity: The popularity of a track is a value between 0 and 100, with 100 being the most popular. The popularity is calculated by algorithm and is based, in the most part, on the total number of plays the track has had and how recent those plays are. Generally speaking, songs that are being played a lot now will have a higher popularity than songs that were played a lot in the past. Duplicate tracks (e.g. the same track from a single and an album) are rated independently. Artist and album popularity is derived mathematically from track popularity.\n",
    "- duration_ms: The track length in milliseconds\n",
    "- explicit: Whether or not the track has explicit lyrics (true = yes it does; false = no it does not OR unknown)\n",
    "- danceability: Danceability describes how suitable a track is for dancing based on a combination of musical elements including tempo, rhythm stability, beat strength, and overall regularity. A value of 0.0 is least danceable and 1.0 is most danceable\n",
    "- energy: Energy is a measure from 0.0 to 1.0 and represents a perceptual measure of intensity and activity. Typically, energetic tracks feel fast, loud, and noisy. For example, death metal has high energy, while a Bach prelude scores low on the scale\n",
    "- key: The key the track is in. Integers map to pitches using standard Pitch Class notation. E.g. 0 = C, 1 = C♯/D♭, 2 = D, and so on. If no key was detected, the value is -1\n",
    "- loudness: The overall loudness of a track in decibels (dB)\n",
    "- mode: Mode indicates the modality (major or minor) of a track, the type of scale from which its melodic content is derived. Major is represented by 1 and minor is 0\n",
    "- speechiness: Speechiness detects the presence of spoken words in a track. The more exclusively speech-like the recording (e.g. talk show, audio book, poetry), the closer to 1.0 the attribute value. Values above 0.66 describe tracks that are probably made entirely of spoken words. Values between 0.33 and 0.66 describe tracks that may contain both music and speech, either in sections or layered, including such cases as rap music. Values below 0.33 most likely represent music and other non-speech-like tracks\n",
    "- acousticness: A confidence measure from 0.0 to 1.0 of whether the track is acoustic. 1.0 represents high confidence the track is acoustic\n",
    "- instrumentalness: Predicts whether a track contains no vocals. \"Ooh\" and \"aah\" sounds are treated as instrumental in this context. Rap or spoken word tracks are clearly \"vocal\". The closer the instrumentalness value is to 1.0, the greater likelihood the track contains no vocal content\n",
    "- liveness: Detects the presence of an audience in the recording. Higher liveness values represent an increased probability that the track was performed live. A value above 0.8 provides strong likelihood that the track is live\n",
    "- valence: A measure from 0.0 to 1.0 describing the musical positiveness conveyed by a track. Tracks with high valence sound more positive (e.g. happy, cheerful, euphoric), while tracks with low valence sound more negative (e.g. sad, depressed, angry)\n",
    "- tempo: The overall estimated tempo of a track in beats per minute (BPM). In musical terminology, tempo is the speed or pace of a given piece and derives directly from the average beat duration\n",
    "- time_signature: An estimated time signature. The time signature (meter) is a notational convention to specify how many beats are in each bar (or measure). The time signature ranges from 3 to 7 indicating time signatures of 3/4, to 7/4.\n",
    "- track_genre: The genre in which the track belongs\n"
   ]
  },
  {
   "cell_type": "markdown",
   "id": "9d5db907",
   "metadata": {},
   "source": [
    "### Preparation \n",
    "Goal: Create a suitable model that predicts the popularity of a song.  \n",
    "Possible type of prediction model: *Regression* (number specific, precise, possibly unstable) or *Classification* (popular/not popular, binary, less precise, possibly more stable).  \n",
    "Possible use case: A marketing firm that wants to know how much money to spend on upcoming songs depending on predicted popularity to better plan the expenses and profits.\n",
    "\n",
    "### Metrics/Evaluation\n",
    "For regression models: Mean absolute error (MAE), R² score  \n",
    "For classification models: Precision score, recall score, f1 score\n"
   ]
  },
  {
   "cell_type": "code",
   "execution_count": null,
   "id": "a40395e1",
   "metadata": {},
   "outputs": [],
   "source": [
    "import pandas as pd\n",
    "import numpy as np\n",
    "import matplotlib.pyplot as plt\n",
    "import seaborn as sns"
   ]
  },
  {
   "cell_type": "code",
   "execution_count": null,
   "id": "a70b038f",
   "metadata": {},
   "outputs": [],
   "source": [
    "# uncomment for data retrieval:\n",
    "#%run .\\src\\data_retrieval\\download_from_kagglehub.py"
   ]
  },
  {
   "cell_type": "code",
   "execution_count": null,
   "id": "255e3273",
   "metadata": {},
   "outputs": [],
   "source": [
    "df = pd.read_csv('data/spotify_dataset.csv', index_col=0)\n",
    "\n",
    "# show 10 random (sample) rows\n",
    "df.sample(10)"
   ]
  },
  {
   "cell_type": "code",
   "execution_count": null,
   "id": "b77888c4",
   "metadata": {},
   "outputs": [],
   "source": [
    "df.shape"
   ]
  },
  {
   "cell_type": "code",
   "execution_count": null,
   "id": "a708aaf1",
   "metadata": {},
   "outputs": [],
   "source": [
    "df.isna().sum()"
   ]
  },
  {
   "cell_type": "code",
   "execution_count": null,
   "id": "8e0f21af",
   "metadata": {},
   "outputs": [],
   "source": [
    "df.describe()"
   ]
  },
  {
   "cell_type": "code",
   "execution_count": null,
   "id": "365c233b",
   "metadata": {},
   "outputs": [],
   "source": [
    "print(f'{\"columns\":<20}{\"# unique values\"}')\n",
    "print('-'*40)\n",
    "for column in df.columns:\n",
    "    print(f'{column:<20}{df[column].nunique()}')"
   ]
  },
  {
   "cell_type": "code",
   "execution_count": null,
   "id": "64af27a5",
   "metadata": {},
   "outputs": [],
   "source": [
    "df.dtypes"
   ]
  },
  {
   "cell_type": "code",
   "execution_count": null,
   "id": "de7ba161",
   "metadata": {},
   "outputs": [],
   "source": [
    "# crate COLS lists für categorical and numerical columns\n",
    "# remove columns that are not needed for the analysis\n",
    "\n",
    "# removed track_id from CAT_COLS\n",
    "CAT_COLS = [\n",
    "    'artists',\n",
    "    'album_name',\n",
    "    'track_name',\n",
    "    'explicit',\n",
    "    'track_genre'\n",
    "]\n",
    "\n",
    "NUM_COLS = [\n",
    "    'popularity',\n",
    "    'duration_ms',\n",
    "    'danceability',\n",
    "    'energy',\n",
    "    'key',\n",
    "    'loudness',\n",
    "    'mode',\n",
    "    'speechiness',\n",
    "    'acousticness',\n",
    "    'instrumentalness',\n",
    "    'liveness',\n",
    "    'valence',\n",
    "    'tempo',\n",
    "    'time_signature'\n",
    "]"
   ]
  },
  {
   "cell_type": "code",
   "execution_count": null,
   "id": "b12da666",
   "metadata": {},
   "outputs": [],
   "source": [
    "# check exact nan values in columns: artists, album_name, track_name\n",
    "\n",
    "for col in ['artists', 'album_name', 'track_name']:\n",
    "    display(df[df[col].isna()])"
   ]
  },
  {
   "cell_type": "code",
   "execution_count": null,
   "id": "9efc2726",
   "metadata": {},
   "outputs": [],
   "source": [
    "# Only 1 row of the dataset is affected by nan values, drop it\n",
    "\n",
    "print(df.shape)\n",
    "df = df.dropna()\n",
    "print(df.shape)"
   ]
  },
  {
   "cell_type": "code",
   "execution_count": null,
   "id": "4f94407a",
   "metadata": {},
   "outputs": [],
   "source": [
    "# Check for duplicate rows\n",
    "print(\"Duplicate rows count:\", df.duplicated().sum())\n",
    "\n",
    "# Check for duplicate track names\n",
    "print(\"Duplicate track names:\", df.duplicated(subset=['track_name']).sum())"
   ]
  },
  {
   "cell_type": "code",
   "execution_count": null,
   "id": "d40ec088",
   "metadata": {},
   "outputs": [],
   "source": [
    "# Look at duplicate track names\n",
    "duplicate_names = df[df.duplicated(subset=['track_name'], keep=False)]\n",
    "\n",
    "# Group by track name and show counts\n",
    "print(duplicate_names['track_name'].value_counts().head(20))"
   ]
  },
  {
   "cell_type": "code",
   "execution_count": null,
   "id": "404b9419",
   "metadata": {},
   "outputs": [],
   "source": [
    "# check individual duplicates\n",
    "df[df['track_name'] == 'Run Rudolph Run']"
   ]
  },
  {
   "cell_type": "markdown",
   "id": "f5ecb267",
   "metadata": {},
   "source": [
    "It seems that the duplicates are mostly identical across all columns, only some of them seem to be different. These are the ones I will keep, the others will be dropped."
   ]
  },
  {
   "cell_type": "code",
   "execution_count": null,
   "id": "19818c9c",
   "metadata": {},
   "outputs": [],
   "source": [
    "# Drop duplicates where all relevant columns are the same\n",
    "relevant_cols = ['artists', 'track_name', 'duration_ms', 'explicit',\n",
    "                'danceability', 'energy', 'key', 'loudness', 'mode',\n",
    "                'speechiness', 'acousticness', 'instrumentalness',\n",
    "                'liveness', 'valence', 'tempo', 'time_signature'] \n",
    "\n",
    "df_clean = df.copy()\n",
    "df_clean = df_clean.drop_duplicates(subset=relevant_cols)\n",
    "\n",
    "# check individual duplicates again\n",
    "df_clean[df_clean['track_name'] == 'Run Rudolph Run']"
   ]
  },
  {
   "cell_type": "code",
   "execution_count": null,
   "id": "a7653e1a",
   "metadata": {},
   "outputs": [],
   "source": [
    "# check shape after dropping duplicates\n",
    "print(df_clean.shape)\n",
    "print(df.shape[0] - df_clean.shape[0], \"duplicates dropped\")\n"
   ]
  },
  {
   "cell_type": "code",
   "execution_count": null,
   "id": "4d46ad0d",
   "metadata": {},
   "outputs": [],
   "source": [
    "# Check num columns\n",
    "df_clean[NUM_COLS]"
   ]
  },
  {
   "cell_type": "markdown",
   "id": "4cb8f29e",
   "metadata": {},
   "source": [
    "### Notes about NUM_COLS\n",
    "The numerical columns have some special ones:\n",
    "- \"duration_ms\" is used as an integer, but actually represents milliseconds (time type) -> may be useful to change to something like minutes (more common for song lengths) --> actually **categorical**, no inherent ranking\n",
    "- \"key\" (Integers map to pitches using standard Pitch Class notation. E.g. 0 = C, 1 = C♯/D♭, 2 = D, and so on. If no key was detected, the value is -1) --> actually **categorical**, no inherent ranking\n",
    "- \"mode\" (major=1 or minor=0), binary categorical\n",
    "- \"tempo\" actually means the BPM (Beats per minute, with float number detail) and is rather some kind of categorical ranking number (the higher the number the faster a song)\n",
    "- \"time signature\" (An estimated time signature. The time signature (meter) is a notational convention to specify how many beats are in each bar (or measure). The time signature ranges from 3 to 7 indicating time signatures of 3/4, to 7/4) --> actually **categorical** number, no inherent ranking\n",
    "\n",
    "- values of 0 in \"tempo\" and \"time signature\" probably refer to **\"unknown\"** since they cannot have values of 0 from their description\n"
   ]
  },
  {
   "cell_type": "code",
   "execution_count": null,
   "id": "dd8a2cab",
   "metadata": {},
   "outputs": [],
   "source": [
    "# Check cat columns\n",
    "df_clean[CAT_COLS]"
   ]
  },
  {
   "cell_type": "markdown",
   "id": "8cf60d9b",
   "metadata": {},
   "source": [
    "### Notes about CAT_COLS\n",
    "The categorical columns have a special one:\n",
    "- \"explicit\" is of type boolean (False/True) and could be transformed to binary (0, 1), to use as numerical.\n",
    "Rest of the cat columns look right.\n"
   ]
  },
  {
   "cell_type": "code",
   "execution_count": null,
   "id": "c24ea009",
   "metadata": {},
   "outputs": [],
   "source": [
    "# check for outliers via the IQR method\n",
    "\n",
    "num_cols_check = ['popularity',\n",
    "                  'danceability',\n",
    "                  'energy',\n",
    "                  'loudness',\n",
    "                  'speechiness',\n",
    "                  'acousticness',\n",
    "                  'instrumentalness',\n",
    "                  'liveness',\n",
    "                  'valence',]\n",
    "# the other num cols are categorical and should not be checked for outliers\n",
    "\n",
    "outlier_summary = []\n",
    "for col in num_cols_check:\n",
    "    Q1 = df_clean[col].quantile(0.25)\n",
    "    Q3 = df_clean[col].quantile(0.75)\n",
    "    IQR = Q3 - Q1\n",
    "    lower = Q1 - 10 * IQR\n",
    "    upper = Q3 + 10 * IQR\n",
    "\n",
    "    mask = (df_clean[col] < lower) | (df_clean[col] > upper)\n",
    "    n_outliers = mask.sum()\n",
    "\n",
    "    outlier_summary.append({\n",
    "        'column': col,\n",
    "        'total': len(df_clean),\n",
    "        'outliers': n_outliers\n",
    "    })\n",
    "\n",
    "outlier_df = pd.DataFrame(outlier_summary)\n",
    "print(outlier_df)"
   ]
  },
  {
   "cell_type": "code",
   "execution_count": null,
   "id": "e5f31212",
   "metadata": {},
   "outputs": [],
   "source": [
    "fig, ax = plt.subplots(ncols=3, nrows=3, figsize=(12, 10))\n",
    "\n",
    "# flatten = turns the subplots 3x3 array into a 1D array (list-like) to help with iteration inside the following loop\n",
    "ax = ax.flatten()\n",
    "\n",
    "for i, col in enumerate(num_cols_check):\n",
    "    ax[i].boxplot(df_clean[col])\n",
    "    ax[i].set_title(f'Boxplot of {col}')\n",
    "    ax[i].set_ylabel(col)\n",
    "\n",
    "plt.tight_layout()"
   ]
  },
  {
   "cell_type": "markdown",
   "id": "3a0b9b79",
   "metadata": {},
   "source": [
    "### Notes about outliers:\n",
    "- Tried ranging numbers to check for outliers for the IQR method from low as 1.5 to 10 (as in the code above currently)\n",
    "- With higher IQR ranges the only two columns showing possible \"outliers\" (or natural variance) are \"speechiness\" and \"instrumentalness\"\n",
    "- But (and the boxplot also support it visually) most columns have a wide range of \"outliers\" and it seems like they are rather natural variance data to be kept  \n",
    "\n",
    "Conclusion: There seem to be no clear outliers here, will keep all data for further analysis and modeling."
   ]
  },
  {
   "cell_type": "code",
   "execution_count": null,
   "id": "74a5f320",
   "metadata": {},
   "outputs": [],
   "source": [
    "# check correlation between numerical columns\n",
    "corr = df_clean[NUM_COLS].corr()\n",
    "\n",
    "fig, ax = plt.subplots(figsize=(12, 10))\n",
    "sns.heatmap(corr, annot=True, fmt='.2f', cmap='coolwarm', center=0, square=True, cbar_kws={'shrink': .8}, ax=ax)"
   ]
  },
  {
   "cell_type": "markdown",
   "id": "7253c881",
   "metadata": {},
   "source": [
    "### Notes about stronger correlations:\n",
    "- acousticness and loudness (negative correlation, -0.73)\n",
    "- loudness and energy (positive correlation, 0.76)\n",
    "\n",
    "\"Acoustical\" songs are probably recorded live or have less sound enhancement (compression, other sound engineered techniques to make a song louder).\n",
    "Louder songs can probably lead to a stronger reception of \"energy\" (energizing somebody) like it is felt with sound enhanced club songs / electronic songs that are often mastered to be as loud as possibly (db wise).\n",
    "\n",
    "For later machine learning model: \n",
    "- Some models safely get around intercorrelations (tree-based models)\n",
    "- For linear models, a ridge or lasso regulation may be suitable\n",
    "- PCA is also an option"
   ]
  },
  {
   "cell_type": "code",
   "execution_count": null,
   "id": "33c002b4",
   "metadata": {},
   "outputs": [],
   "source": [
    "# check individual scatterplots of the most correlated columns\n",
    "fix, ax = plt.subplots(ncols=2, figsize=(10, 5))\n",
    "sns.scatterplot(x='loudness', y='acousticness', data=df_clean, alpha=0.5, ax=ax[0]);\n",
    "sns.scatterplot(x='loudness', y='energy', data=df_clean, alpha=0.5, ax=ax[1]);\n",
    "\n",
    "plt.tight_layout()\n"
   ]
  },
  {
   "cell_type": "code",
   "execution_count": null,
   "id": "5b58c958",
   "metadata": {},
   "outputs": [],
   "source": [
    "# check individual histplots for better feel of numerical columns\n",
    "fig, ax = plt.subplots(ncols=2, nrows=7, figsize=(12, 10))\n",
    "ax = ax.flatten()\n",
    "\n",
    "for i, col in enumerate(NUM_COLS):\n",
    "    sns.histplot(df_clean[col], bins=50, kde=True, color='blue', alpha=0.7, ax=ax[i])\n",
    "    ax[i].set_ylabel(col)\n",
    "\n",
    "plt.tight_layout();"
   ]
  },
  {
   "cell_type": "markdown",
   "id": "59dc427e",
   "metadata": {},
   "source": [
    "### Some notes about histplots:\n",
    "- popularity: Most are actually 0 or around it (these songs have maybe not been played for a while?)\n",
    "- instrumentalness: most are also 0 or around it (maybe was not available to get most of the time?)\n",
    "- acousticness: most are 0, rest is quite equally distributed\n",
    "- valence: wide range of almost equal distribution across all data\n",
    "- time_signature: most songs are in the 4/4 time_signature (which makes sense, its probably the most common time signature in music)"
   ]
  },
  {
   "cell_type": "code",
   "execution_count": null,
   "id": "bb7e5c8e",
   "metadata": {},
   "outputs": [],
   "source": [
    "## further check of popularity as possible target \n",
    "# check distribution of popularity values\n",
    "popularity_counts = pd.crosstab(index=df_clean['popularity'], columns='count').sort_values(by='count', ascending=False)\n",
    "popularity_counts\n"
   ]
  },
  {
   "cell_type": "markdown",
   "id": "7c22ea6b",
   "metadata": {},
   "source": [
    "### Notes about popularity as possible target\n",
    "- Many datapoints contain popularity values of 0 which is quite unbalanced and the model might be biased towards predicting lower values\n",
    "- Popularity scales from 0 to 100 and might be hard to predict precisely with a regression model\n",
    "- Also values of 0 can also mean the track has not been played for a while, or it was recently added to Spotify an hence has not been played at the time of the data retrieval\n",
    "- The popularity algorithm focues on **how often a song has recently been played** so new songs that are being played are heavily favored\n",
    "\n",
    "For later machine-learning model:  \n",
    "- Resampling techniques could help to balance the the values, or using a balanced weight parameter in specific models\n",
    "- Might be better to recategorize popularity and use a classification model in the first place"
   ]
  },
  {
   "cell_type": "code",
   "execution_count": null,
   "id": "2bb6367d",
   "metadata": {},
   "outputs": [],
   "source": [
    "# check popularity vs. categorical columns with low unique value counts\n",
    "for col in ['explicit', 'key', 'mode', 'time_signature']:   \n",
    "    display(pd.crosstab(df['popularity'], df_clean[col], normalize='index').sort_values(by='popularity'))"
   ]
  },
  {
   "cell_type": "code",
   "execution_count": null,
   "id": "5f88fdbb",
   "metadata": {},
   "outputs": [],
   "source": [
    "# check scatterplots of popularity vs. numerical features\n",
    "fig, ax = plt.subplots(ncols=2, nrows=7, figsize=(12, 20))\n",
    "ax = ax.flatten()\n",
    "\n",
    "for i, col in enumerate(NUM_COLS):\n",
    "    ax[i].scatter(df_clean[col], df_clean['popularity'], alpha=0.3)\n",
    "    ax[i].set_title(f'Popularity vs. {col}')\n",
    "    ax[i].set_xlabel(col)\n",
    "    ax[i].set_ylabel('popularity')\n",
    "    ax[i].set_ylim(0, 120)\n",
    "\n",
    "plt.tight_layout()"
   ]
  },
  {
   "cell_type": "markdown",
   "id": "16c47598",
   "metadata": {},
   "source": [
    "### Notes about scatterplots of popularity vs. numerical columns:  \n",
    "- mostly wide ranges of popularity values across most of the numerical columns\n",
    "- the \"actual categorical\" columns like mode and key also have a wide variance\n",
    "- the speechiness column has an interesting distribution: A higher speechiness shows less popularity on the higher end and a more focused distribution on the middle to lower end. This probably means that songs that are highly vocal (acapella, etc.) with less or none instrumental aspects are less popular. This makes sense, to have a good balance of instrumentals and vocals seems logical. It shows a stronger emphasis on instrumentalness than I thought."
   ]
  },
  {
   "cell_type": "code",
   "execution_count": null,
   "id": "71d7d940",
   "metadata": {},
   "outputs": [],
   "source": [
    "# check correlation of all columns with popularity specifically\n",
    "# Convert to DataFrame for heatmap\n",
    "corr_pop = df_clean.corr(numeric_only=True)['popularity'].sort_values(ascending=False)\n",
    "print(f'Correlation of numeric columns with popularity in:\\n{corr_pop}')\n"
   ]
  },
  {
   "cell_type": "markdown",
   "id": "1d54f85f",
   "metadata": {},
   "source": [
    "No very strong correlations with popularity, highest values are 0.09 for loudness and -0.175 for instrumentalness.  \n",
    "Categorical columns could also lead a stronger role. Will see in later machine-learning evaluation."
   ]
  },
  {
   "cell_type": "markdown",
   "id": "5afe3ae7",
   "metadata": {},
   "source": [
    "### Categorize target column \"popularity\":\n",
    "Decided to go for a classification model. Popularity as target column needs to be **categorized** for that, therefore:\n",
    "- \"New\" = values of -1 or 0, represents new songs or songs that have not been played on spotify yet for some reason\n",
    "- \"Low\", \"Medium\", \"High\" = by cutting 1/3rd (at 33, 66 and 100) the value ranges represent low, medium and high popularity\n"
   ]
  },
  {
   "cell_type": "code",
   "execution_count": null,
   "id": "ea0069fd",
   "metadata": {},
   "outputs": [],
   "source": [
    "# Use pd.cut for equal-width bins to categorize popularity\n",
    "\n",
    "df_clean['popularity_cat'] = pd.cut(df_clean['popularity'],\n",
    "                                    bins=[-1, 0, 33, 66, 100],\n",
    "                                    labels=['New', 'Low', 'Medium', 'High'])\n",
    "\n",
    "print(df_clean['popularity_cat'].value_counts())\n",
    "print(df_clean.columns)"
   ]
  },
  {
   "cell_type": "markdown",
   "id": "c2dc945e",
   "metadata": {},
   "source": [
    "The categorization is unbalanced considering medium and low are dominating the popularity values (which has already been seen in the eda), but\n",
    "a balance class weight in a classification model probably fixes that. The categorization shouldn't become too complex. Will work with that for now."
   ]
  },
  {
   "cell_type": "code",
   "execution_count": null,
   "id": "e313f76e",
   "metadata": {},
   "outputs": [],
   "source": [
    "# safe cleaned dataset as csv to use in machine-learning process\n",
    "df_clean.to_csv('./data/spotify_cleaned.csv')"
   ]
  }
 ],
 "metadata": {
  "kernelspec": {
   "display_name": ".venv",
   "language": "python",
   "name": "python3"
  },
  "language_info": {
   "codemirror_mode": {
    "name": "ipython",
    "version": 3
   },
   "file_extension": ".py",
   "mimetype": "text/x-python",
   "name": "python",
   "nbconvert_exporter": "python",
   "pygments_lexer": "ipython3",
   "version": "3.13.3"
  }
 },
 "nbformat": 4,
 "nbformat_minor": 5
}
