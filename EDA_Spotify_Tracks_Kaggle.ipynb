{
 "cells": [
  {
   "cell_type": "markdown",
   "id": "b9a1a4e5",
   "metadata": {},
   "source": [
    "# First EDA of the spotify dataset from kaggle"
   ]
  },
  {
   "cell_type": "markdown",
   "id": "0ea32614",
   "metadata": {},
   "source": [
    "### Dataset description\n",
    "\n",
    "From Kaggle - Column Description:\n",
    "- track_id: The Spotify ID for the track\n",
    "- artists: The artists' names who performed the track. If there is more than one artist, they are separated by a ;\n",
    "- album_name: The album name in which the track appears\n",
    "- track_name: Name of the track\n",
    "- popularity: The popularity of a track is a value between 0 and 100, with 100 being the most popular. The popularity is calculated by algorithm and is based, in the most part, on the total number of plays the track has had and how recent those plays are. Generally speaking, songs that are being played a lot now will have a higher popularity than songs that were played a lot in the past. Duplicate tracks (e.g. the same track from a single and an album) are rated independently. Artist and album popularity is derived mathematically from track popularity.\n",
    "- duration_ms: The track length in milliseconds\n",
    "- explicit: Whether or not the track has explicit lyrics (true = yes it does; false = no it does not OR unknown)\n",
    "- danceability: Danceability describes how suitable a track is for dancing based on a combination of musical elements including tempo, rhythm stability, beat strength, and overall regularity. A value of 0.0 is least danceable and 1.0 is most danceable\n",
    "- energy: Energy is a measure from 0.0 to 1.0 and represents a perceptual measure of intensity and activity. Typically, energetic tracks feel fast, loud, and noisy. For example, death metal has high energy, while a Bach prelude scores low on the scale\n",
    "- key: The key the track is in. Integers map to pitches using standard Pitch Class notation. E.g. 0 = C, 1 = C♯/D♭, 2 = D, and so on. If no key was detected, the value is -1\n",
    "- loudness: The overall loudness of a track in decibels (dB)\n",
    "- mode: Mode indicates the modality (major or minor) of a track, the type of scale from which its melodic content is derived. Major is represented by 1 and minor is 0\n",
    "- speechiness: Speechiness detects the presence of spoken words in a track. The more exclusively speech-like the recording (e.g. talk show, audio book, poetry), the closer to 1.0 the attribute value. Values above 0.66 describe tracks that are probably made entirely of spoken words. Values between 0.33 and 0.66 describe tracks that may contain both music and speech, either in sections or layered, including such cases as rap music. Values below 0.33 most likely represent music and other non-speech-like tracks\n",
    "- acousticness: A confidence measure from 0.0 to 1.0 of whether the track is acoustic. 1.0 represents high confidence the track is acoustic\n",
    "- instrumentalness: Predicts whether a track contains no vocals. \"Ooh\" and \"aah\" sounds are treated as instrumental in this context. Rap or spoken word tracks are clearly \"vocal\". The closer the instrumentalness value is to 1.0, the greater likelihood the track contains no vocal content\n",
    "- liveness: Detects the presence of an audience in the recording. Higher liveness values represent an increased probability that the track was performed live. A value above 0.8 provides strong likelihood that the track is live\n",
    "- valence: A measure from 0.0 to 1.0 describing the musical positiveness conveyed by a track. Tracks with high valence sound more positive (e.g. happy, cheerful, euphoric), while tracks with low valence sound more negative (e.g. sad, depressed, angry)\n",
    "- tempo: The overall estimated tempo of a track in beats per minute (BPM). In musical terminology, tempo is the speed or pace of a given piece and derives directly from the average beat duration\n",
    "- time_signature: An estimated time signature. The time signature (meter) is a notational convention to specify how many beats are in each bar (or measure). The time signature ranges from 3 to 7 indicating time signatures of 3/4, to 7/4.\n",
    "- track_genre: The genre in which the track belongs\"\n"
   ]
  },
  {
   "cell_type": "code",
   "execution_count": null,
   "id": "a40395e1",
   "metadata": {},
   "outputs": [],
   "source": [
    "import pandas as pd\n",
    "import numpy as np\n",
    "import matplotlib.pyplot as plt\n",
    "import seaborn as sns"
   ]
  },
  {
   "cell_type": "code",
   "execution_count": null,
   "id": "255e3273",
   "metadata": {},
   "outputs": [],
   "source": [
    "df = pd.read_csv('data/dataset.csv', index_col=0)\n",
    "\n",
    "# show 10 random (sample) rows\n",
    "df.sample(10)"
   ]
  },
  {
   "cell_type": "code",
   "execution_count": null,
   "id": "b77888c4",
   "metadata": {},
   "outputs": [],
   "source": [
    "df.shape"
   ]
  },
  {
   "cell_type": "code",
   "execution_count": null,
   "id": "a708aaf1",
   "metadata": {},
   "outputs": [],
   "source": [
    "df.isna().sum()"
   ]
  },
  {
   "cell_type": "code",
   "execution_count": null,
   "id": "8e0f21af",
   "metadata": {},
   "outputs": [],
   "source": [
    "df.describe()"
   ]
  },
  {
   "cell_type": "code",
   "execution_count": null,
   "id": "365c233b",
   "metadata": {},
   "outputs": [],
   "source": [
    "print(f'{\"columns\":<20}{\"# unique values\"}')\n",
    "print('-'*40)\n",
    "for column in df.columns:\n",
    "    print(f'{column:<20}{df[column].nunique()}')"
   ]
  },
  {
   "cell_type": "code",
   "execution_count": null,
   "id": "64af27a5",
   "metadata": {},
   "outputs": [],
   "source": [
    "df.dtypes"
   ]
  },
  {
   "cell_type": "code",
   "execution_count": null,
   "id": "de7ba161",
   "metadata": {},
   "outputs": [],
   "source": [
    "# crate COLS lists für categorical and numerical columns\n",
    "# remove columns that are not needed for the analysis\n",
    "\n",
    "CAT_COLS = [\n",
    "    'track_id',\n",
    "    'artists',\n",
    "    'album_name',\n",
    "    'track_name',\n",
    "    'explicit',\n",
    "    'track_genre'\n",
    "]\n",
    "\n",
    "NUM_COLS = [\n",
    "    'popularity',\n",
    "    'duration_ms',\n",
    "    'danceability',\n",
    "    'energy',\n",
    "    'key',\n",
    "    'loudness',\n",
    "    'mode',\n",
    "    'speechiness',\n",
    "    'acousticness',\n",
    "    'instrumentalness',\n",
    "    'liveness',\n",
    "    'valence',\n",
    "    'tempo',\n",
    "    'time_signature'\n",
    "]"
   ]
  },
  {
   "cell_type": "code",
   "execution_count": null,
   "id": "4f94407a",
   "metadata": {},
   "outputs": [],
   "source": [
    "# Check columns for appropriate categorization to numerical\n",
    "df[NUM_COLS]\n"
   ]
  },
  {
   "cell_type": "markdown",
   "id": "4cb8f29e",
   "metadata": {},
   "source": [
    "### Notes about NUM_COLS\n",
    "The (possibly) numerical columns have some special ones:\n",
    "- \"duration_ms\" is used as an integer, but actually represents milliseconds (time type)\n",
    "- \"key\" ? unsure\n",
    "- \"mode\" ? unsure\n",
    "- \"tempo\" actually means the BPM (Beats per minute, with float number detail) and is rather some kind of categorical ranking number (the higher the number the faster a song)\n",
    "- \"time signature\" ? unsure\n"
   ]
  },
  {
   "cell_type": "code",
   "execution_count": null,
   "id": "dd8a2cab",
   "metadata": {},
   "outputs": [],
   "source": [
    "# Check columns for appropriate categorization to categorical\n",
    "df[CAT_COLS]"
   ]
  },
  {
   "cell_type": "markdown",
   "id": "8cf60d9b",
   "metadata": {},
   "source": [
    "### Notes about CAT_COLS\n",
    "The (possibly) categorical columns have a special one:\n",
    "- \"explicit\" is of type boolean (False/True) and could be transformed to binary (0, 1), to use as numerical\n",
    "Rest of the cat columns look right.\n"
   ]
  }
 ],
 "metadata": {
  "kernelspec": {
   "display_name": ".venv",
   "language": "python",
   "name": "python3"
  },
  "language_info": {
   "codemirror_mode": {
    "name": "ipython",
    "version": 3
   },
   "file_extension": ".py",
   "mimetype": "text/x-python",
   "name": "python",
   "nbconvert_exporter": "python",
   "pygments_lexer": "ipython3",
   "version": "3.13.3"
  }
 },
 "nbformat": 4,
 "nbformat_minor": 5
}
