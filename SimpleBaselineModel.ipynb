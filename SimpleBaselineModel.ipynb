{
 "cells": [
  {
   "cell_type": "markdown",
   "id": "5fab174b",
   "metadata": {},
   "source": [
    "# Simple base line model (for comparison with final model)\n",
    "\n",
    "A simple base model will be built and tested.  \n",
    "Feature engineering is not applied except simple one hot encoding for suitable categorical features with a low amount of unique values only; numerical features are also standardized.  \n",
    "No Hyperparameter-Tuning yet."
   ]
  },
  {
   "cell_type": "code",
   "execution_count": null,
   "id": "4d11432d",
   "metadata": {},
   "outputs": [],
   "source": [
    "# import modules\n",
    "import pandas as pd\n",
    "import numpy as np\n",
    "import matplotlib.pyplot as plt\n",
    "import seaborn as sns\n",
    "\n",
    "from sklearn.decomposition import PCA\n",
    "from sklearn.model_selection import train_test_split\n",
    "from sklearn.pipeline import Pipeline\n",
    "from sklearn.preprocessing import OneHotEncoder, StandardScaler\n",
    "from sklearn.compose import ColumnTransformer\n",
    "from sklearn.model_selection import validation_curve\n",
    "\n",
    "from sklearn.tree import DecisionTreeClassifier\n",
    "from sklearn.ensemble import RandomForestClassifier\n",
    "from sklearn.metrics import accuracy_score, precision_score, recall_score, f1_score, confusion_matrix, classification_report\n",
    "from sklearn.model_selection import cross_val_score\n",
    "from sklearn.model_selection import learning_curve"
   ]
  },
  {
   "cell_type": "code",
   "execution_count": null,
   "id": "4a0550f2",
   "metadata": {},
   "outputs": [],
   "source": [
    "# read data\n",
    "df = pd.read_csv('data/spotify_dataset.csv')\n",
    "df.head()"
   ]
  },
  {
   "cell_type": "markdown",
   "id": "485dffab",
   "metadata": {},
   "source": [
    "### Train-Test-Split"
   ]
  },
  {
   "cell_type": "code",
   "execution_count": null,
   "id": "52884b7e",
   "metadata": {},
   "outputs": [],
   "source": [
    "# Train-Test-Split\n",
    "df_train, df_test = train_test_split(df, test_size = 0.3, random_state = 42)\n",
    "\n",
    "print('df_train: ', df_train.shape)\n",
    "print('df_test: ', df_test.shape)\n",
    "\n",
    "# Second Train-Test-Split for val/aim data\n",
    "df_test, df_val = train_test_split(df_test, test_size=0.33, random_state = 42)\n",
    "\n",
    "print('df_test: ', df_test.shape)\n",
    "print('df_val: ', df_val.shape)"
   ]
  },
  {
   "cell_type": "markdown",
   "id": "c3e8a88e",
   "metadata": {},
   "source": [
    "### Data cleaning"
   ]
  },
  {
   "cell_type": "code",
   "execution_count": null,
   "id": "3ebe6327",
   "metadata": {},
   "outputs": [],
   "source": [
    "from src.features.clean_data_func import clean_data\n",
    "\n",
    "#apply clean_data function on train data\n",
    "df_train_cleaned = clean_data(df_train)\n",
    "display(df_train_cleaned.head())\n",
    "\n",
    "#apply clean_data function on test and val data\n",
    "df_test_cleaned = clean_data(df_test)\n",
    "df_val_cleaned = clean_data(df_val)\n"
   ]
  },
  {
   "cell_type": "code",
   "execution_count": null,
   "id": "2d136e91",
   "metadata": {},
   "outputs": [],
   "source": [
    "# splitting train data into features and target without further feature engineering\n",
    "features_to_drop = [\n",
    "    'track_id',\n",
    "    'artists',\n",
    "    'album_name',\n",
    "    'track_name',\n",
    "    'track_genre',\n",
    "    'popularity',\n",
    "    'popularity_cat']\n",
    "\n",
    "features_train = df_train_cleaned.drop(features_to_drop, axis = 1)\n",
    "target_train = df_train_cleaned['popularity_cat']\n",
    "\n",
    "# splitting test data into features and target\n",
    "features_test = df_test_cleaned.drop(features_to_drop, axis = 1)\n",
    "target_test = df_test_cleaned['popularity_cat']\n",
    "\n",
    "# splitting val data into features and target\n",
    "features_val = df_val_cleaned.drop(features_to_drop, axis = 1)\n",
    "target_val = df_val_cleaned['popularity_cat']"
   ]
  },
  {
   "cell_type": "code",
   "execution_count": null,
   "id": "e20cc95f",
   "metadata": {},
   "outputs": [],
   "source": [
    "# check features and target of train data\n",
    "display(features_train.head(), features_train.shape)\n",
    "display(target_train.head(), target_train.shape)"
   ]
  },
  {
   "cell_type": "markdown",
   "id": "717f4d9e",
   "metadata": {},
   "source": [
    "### Data preparation and training"
   ]
  },
  {
   "cell_type": "code",
   "execution_count": null,
   "id": "ab06b215",
   "metadata": {},
   "outputs": [],
   "source": [
    "# getting columns easy for copy-paste\n",
    "features_train.columns"
   ]
  },
  {
   "cell_type": "code",
   "execution_count": null,
   "id": "75d0a98c",
   "metadata": {},
   "outputs": [],
   "source": [
    "## classifier DecisionTreeClassifier() can handle numerical (which are actual categorical) features well:\n",
    "# - 'key' (0-11)\n",
    "# - 'mode' (0-1)\n",
    "# - 'time_signature' (0-4)\n",
    "# - 'explicit' (0-1)"
   ]
  },
  {
   "cell_type": "code",
   "execution_count": null,
   "id": "4015c7f0",
   "metadata": {},
   "outputs": [],
   "source": [
    "# defining simple base pipeline with DecisionTreeClassifier\n",
    "pipeline_tree = Pipeline(steps=[('preprocessor', StandardScaler()),\n",
    "    ('model', DecisionTreeClassifier(class_weight='balanced', random_state=42))\n",
    "])"
   ]
  },
  {
   "cell_type": "code",
   "execution_count": null,
   "id": "59797f9d",
   "metadata": {},
   "outputs": [],
   "source": [
    "# training model\n",
    "pipeline_tree.fit(features_train, target_train)\n",
    "\n",
    "# predicting on test data\n",
    "target_test_pred = pipeline_tree.predict(features_test)\n",
    "\n",
    "# show metrics\n",
    "#print('Accuracy: ', accuracy_score(target_test, target_test_pred))\n",
    "#print('Precision: ', precision_score(target_test, target_test_pred, average='weighted'))\n",
    "#print('Recall: ', recall_score(target_test, target_test_pred, average='weighted'))\n",
    "#print('F1-Score: ', f1_score(target_test, target_test_pred, average='weighted'))\n",
    "print('Confusion Matrix: \\n', confusion_matrix(target_test, target_test_pred), '\\n')\n",
    "print('Classification Report: \\n', classification_report(target_test, target_test_pred))"
   ]
  },
  {
   "cell_type": "code",
   "execution_count": null,
   "id": "0f457247",
   "metadata": {},
   "outputs": [],
   "source": [
    "# predicting on val data\n",
    "target_val_pred = pipeline_tree.predict(features_val)\n",
    "\n",
    "# show metrics\n",
    "print('Confusion Matrix: \\n', confusion_matrix(target_val, target_val_pred), '\\n')\n",
    "print('Classification Report: \\n', classification_report(target_val, target_val_pred))"
   ]
  },
  {
   "cell_type": "code",
   "execution_count": null,
   "id": "34a5ebf3",
   "metadata": {},
   "outputs": [],
   "source": [
    "# save classification report of val data in results folder of src to load it in finale model for direct comparison\n",
    "simple_model_classification_report = classification_report(target_val, target_val_pred, output_dict=True)\n",
    "simple_model_classification_report = pd.DataFrame(simple_model_classification_report).transpose()\n",
    "simple_model_classification_report.columns = ['precision_simple', 'recall_simple', 'f1_score_simple', 'support_simple']\n",
    "simple_model_classification_report.to_csv('src/results/simple_model_classification_report.csv')"
   ]
  },
  {
   "cell_type": "code",
   "execution_count": null,
   "id": "f0abc502",
   "metadata": {},
   "outputs": [],
   "source": [
    "# check cross validation score\n",
    "cv_results = cross_val_score(estimator=pipeline_tree,\n",
    "                            X=features_train,\n",
    "                            y=target_train,\n",
    "                            cv=5,\n",
    "                            scoring='f1_weighted',\n",
    "                            n_jobs=-1)\n",
    "cv_results.mean()"
   ]
  }
 ],
 "metadata": {
  "kernelspec": {
   "display_name": ".venv",
   "language": "python",
   "name": "python3"
  },
  "language_info": {
   "codemirror_mode": {
    "name": "ipython",
    "version": 3
   },
   "file_extension": ".py",
   "mimetype": "text/x-python",
   "name": "python",
   "nbconvert_exporter": "python",
   "pygments_lexer": "ipython3",
   "version": "3.13.3"
  }
 },
 "nbformat": 4,
 "nbformat_minor": 5
}
