{
 "cells": [
  {
   "cell_type": "markdown",
   "id": "5fab174b",
   "metadata": {},
   "source": [
    "# Base model\n",
    "\n",
    "A simple base model will be built and tested.  \n",
    "Feature engineering is being applied, numerical features are standardized.  \n",
    "No Hyperparameter-Tuning yet."
   ]
  },
  {
   "cell_type": "code",
   "execution_count": null,
   "id": "4d11432d",
   "metadata": {},
   "outputs": [],
   "source": [
    "# import modules"
   ]
  },
  {
   "cell_type": "code",
   "execution_count": null,
   "id": "4a0550f2",
   "metadata": {},
   "outputs": [],
   "source": [
    "# read data\n",
    "df = pd.read_csv('data/spotify_cleaned.csv', index_col=0)\n",
    "df.head()"
   ]
  },
  {
   "cell_type": "markdown",
   "id": "485dffab",
   "metadata": {},
   "source": [
    "### Train-Test-Split"
   ]
  },
  {
   "cell_type": "code",
   "execution_count": null,
   "id": "52884b7e",
   "metadata": {},
   "outputs": [],
   "source": [
    "#"
   ]
  }
 ],
 "metadata": {
  "kernelspec": {
   "display_name": ".venv",
   "language": "python",
   "name": "python3"
  },
  "language_info": {
   "name": "python",
   "version": "3.13.3"
  }
 },
 "nbformat": 4,
 "nbformat_minor": 5
}
