{
 "cells": [
  {
   "cell_type": "markdown",
   "id": "eaa03c26",
   "metadata": {},
   "source": [
    "# Feature Engineering (Spotify Track Data)  \n",
    "\n",
    "### Recategorize \"popularity\" target column for classifier models"
   ]
  },
  {
   "cell_type": "code",
   "execution_count": 1,
   "id": "432bec8f",
   "metadata": {},
   "outputs": [],
   "source": [
    "import pandas as pd\n",
    "import numpy as np"
   ]
  },
  {
   "cell_type": "code",
   "execution_count": null,
   "id": "c8c86938",
   "metadata": {},
   "outputs": [],
   "source": [
    "### to do: read df_clean when saved in data folder first"
   ]
  },
  {
   "cell_type": "code",
   "execution_count": null,
   "id": "5edada98",
   "metadata": {},
   "outputs": [],
   "source": [
    "# 3-class approach: Low / Medium / High recategorization as 1/3 slices of the 'popularity' values\n",
    "\n",
    "def categorize_popularity(score):\n",
    "    if score == 0:\n",
    "        return 'Unknown'\n",
    "    elif score <= 33:\n",
    "        return 'Low'\n",
    "    elif score <= 66:\n",
    "        return 'Medium'\n",
    "    else:\n",
    "        return 'High'\n",
    "\n",
    "#df['popularity_category'] = df['popularity'].apply(categorize_popularity)\n",
    "\n",
    "#print(df['popularity_category'].value_counts())\n"
   ]
  },
  {
   "cell_type": "code",
   "execution_count": null,
   "id": "5812a11a",
   "metadata": {},
   "outputs": [],
   "source": [
    "# Alternative: Use pd.cut for equal-width bins\n",
    "\n",
    "df['popularity_category'] = pd.cut(df['popularity'],\n",
    "                                    bins=[-1, 0, 33, 66, 100],\n",
    "                                    labels=['Unknown', 'Low', 'Medium', 'High'])"
   ]
  }
 ],
 "metadata": {
  "kernelspec": {
   "display_name": ".venv",
   "language": "python",
   "name": "python3"
  },
  "language_info": {
   "codemirror_mode": {
    "name": "ipython",
    "version": 3
   },
   "file_extension": ".py",
   "mimetype": "text/x-python",
   "name": "python",
   "nbconvert_exporter": "python",
   "pygments_lexer": "ipython3",
   "version": "3.13.3"
  }
 },
 "nbformat": 4,
 "nbformat_minor": 5
}
