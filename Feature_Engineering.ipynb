{
 "cells": [
  {
   "cell_type": "markdown",
   "id": "eaa03c26",
   "metadata": {},
   "source": [
    "# Feature Engineering (Spotify Track Data)  \n",
    "\n",
    "### Recategorize \"popularity\" target column for classifier models"
   ]
  },
  {
   "cell_type": "code",
   "execution_count": null,
   "id": "432bec8f",
   "metadata": {},
   "outputs": [],
   "source": [
    "# importing modules\n",
    "import pandas as pd\n",
    "import numpy as np\n",
    "import matplotlib.pyplot as plt\n",
    "import seaborn as sns\n",
    "\n",
    "from sklearn.decomposition import PCA\n",
    "from sklearn.model_selection import train_test_split\n",
    "from sklearn.pipeline import Pipeline\n",
    "from sklearn.preprocessing import OneHotEncoder\n",
    "from sklearn.compose import ColumnTransformer\n",
    "from sklearn.model_selection import validation_curve\n",
    "from sklearn.cluster import KMeans\n",
    "from sklearn.preprocessing import StandardScaler"
   ]
  },
  {
   "cell_type": "code",
   "execution_count": null,
   "id": "c8c86938",
   "metadata": {},
   "outputs": [],
   "source": [
    "# read data\n",
    "df = pd.read_csv('data/spotify_dataset.csv')\n",
    "df.head()"
   ]
  },
  {
   "cell_type": "markdown",
   "id": "ae940461",
   "metadata": {},
   "source": [
    "### Train-Test-Splits"
   ]
  },
  {
   "cell_type": "code",
   "execution_count": null,
   "id": "84c6681b",
   "metadata": {},
   "outputs": [],
   "source": [
    "# Train-Test-Split\n",
    "df_train, df_test = train_test_split(df, test_size = 0.3, random_state = 42)\n",
    "\n",
    "print('df_train: ', df_train.shape)\n",
    "print('df_test: ', df_test.shape)\n",
    "\n",
    "# Second Train-Test-Split for val/aim data\n",
    "df_test, df_val = train_test_split(df_test, test_size=0.33, random_state = 42)\n",
    "\n",
    "print('df_test: ', df_test.shape)\n",
    "print('df_val: ', df_val.shape)"
   ]
  },
  {
   "cell_type": "markdown",
   "id": "9c9052bd",
   "metadata": {},
   "source": [
    "### Data cleaning"
   ]
  },
  {
   "cell_type": "code",
   "execution_count": null,
   "id": "76d75460",
   "metadata": {},
   "outputs": [],
   "source": [
    "from src.features.clean_data_func import clean_data\n",
    "\n",
    "#apply clean_data function on train data\n",
    "df_train_cleaned = clean_data(df_train)\n",
    "display(df_train_cleaned.head())\n",
    "\n",
    "#apply clean_data function on test and val data\n",
    "df_test_cleaned = clean_data(df_test)\n",
    "df_val_cleaned = clean_data(df_val)"
   ]
  },
  {
   "cell_type": "code",
   "execution_count": null,
   "id": "740d958b",
   "metadata": {},
   "outputs": [],
   "source": [
    "# redefine CAT_COLS for later one hot encoding (some may need to be dropped/changed or go through a PCA first)\n",
    "\n",
    "CAT_COLS_NEW = [\n",
    "    'artists',\n",
    "    'album_name',\n",
    "    'track_name',\n",
    "    'explicit',\n",
    "    'track_genre',\n",
    "    'key',\n",
    "    'mode',\n",
    "    'time_signature']\n",
    "\n",
    "# check unique value count again\n",
    "print(f'{\"columns\":<20}{\"# unique values\"}')\n",
    "print('-'*40)\n",
    "for col in CAT_COLS_NEW:\n",
    "    print(f'{col:<20}{df_train_cleaned[col].nunique()}')"
   ]
  },
  {
   "cell_type": "markdown",
   "id": "66ce2d55",
   "metadata": {},
   "source": [
    "### Notes for categorical columns & further feature engineering:\n",
    "- feature engineer new columns out of the 3 columns with too many unique values: \"artists\", \"album_name\", \"track_name\"\n",
    "    - Get tracks per artist by grouping artist and track_id; many tracks where an artist contributed could mean that artist has a higher exposure and could lead to higher popularity\n",
    "    - Convert track_name length to numeric since shorter or longer names may have an impact on popularity (track name like \"Burn\" vs. \"Fantasy on a long road\", etc.) and this way track_name data is somewhat usable for the model\n",
    "    - Convert album_name length to numeric aswell\n",
    "    - Instead of tracks per genre, which led to overfitting when testing, try grouping the genres into categories of more common and less common groups and then one hot encode?"
   ]
  },
  {
   "cell_type": "markdown",
   "id": "6ebad689",
   "metadata": {},
   "source": [
    "### New features"
   ]
  },
  {
   "cell_type": "code",
   "execution_count": null,
   "id": "0c054947",
   "metadata": {},
   "outputs": [],
   "source": [
    "# tracks per artist (how often they appear)\n",
    "df_train_cleaned['tracks_per_artist'] = df_train_cleaned.groupby('artists')['track_id'].transform('count')\n",
    "print(df_train_cleaned['tracks_per_artist'], '\\n')\n",
    "\n",
    "# tracks per album (less useful, but possible) ### abondoned because it led to overfitting in the model ###\n",
    "#df_train_cleaned['tracks_per_album'] = df_train_cleaned.groupby('album_name')['track_id'].transform('count')\n",
    "#print(df_train_cleaned['tracks_per_album'], '\\n')\n",
    "\n",
    "# tracks per genre (how often they appear) ### abondoned because it led to overfitting in the model ###\n",
    "#df_train_cleaned['tracks_per_genre'] = df_train_cleaned.groupby('track_genre')['track_id'].transform('count')\n",
    "#print(df_train_cleaned['tracks_per_genre'])"
   ]
  },
  {
   "cell_type": "code",
   "execution_count": null,
   "id": "a3440b5f",
   "metadata": {},
   "outputs": [],
   "source": [
    "# build groups for the top genres at a chosen cutoff point and the rest is tagged as \"Others\" to reduce categories for later one-hot-encoding\n",
    "# try different cutoffs, median is around 589, if output has still too many nunique genres for one-hot-encoding, try higher cutoff (but lose data variance)\n",
    "cutoff = 589   # cutoff at 650 leads to 33 nunique genres (the 'Other' group for everything under it included as one big group)\n",
    "genre_counts = df_train_cleaned['track_genre'].value_counts()\n",
    "common_genres = genre_counts[genre_counts >= cutoff].index\n",
    "\n",
    "df_train_cleaned['track_genre_grouped'] = df_train_cleaned['track_genre'].where(df_train_cleaned['track_genre'].isin(common_genres), 'Other')\n",
    "df_train_cleaned['track_genre_grouped'].nunique()\n",
    "df_train_cleaned['track_genre_grouped'].value_counts()\n"
   ]
  },
  {
   "cell_type": "code",
   "execution_count": null,
   "id": "45ce4b8a",
   "metadata": {},
   "outputs": [],
   "source": [
    "# get length of track name\n",
    "df_train_cleaned['track_name_length'] = df_train_cleaned['track_name'].str.len()\n",
    "print(df_train_cleaned['track_name_length'], '\\n')\n",
    "\n",
    "# get length of album name \n",
    "df_train_cleaned['album_name_length'] = df_train_cleaned['album_name'].str.len()\n",
    "print(df_train_cleaned['album_name_length'])"
   ]
  },
  {
   "cell_type": "markdown",
   "id": "67a84883",
   "metadata": {},
   "source": [
    "### PCA test for track genres to reduce dimensionality (optional, not helpful)"
   ]
  },
  {
   "cell_type": "code",
   "execution_count": null,
   "id": "e8450fa6",
   "metadata": {},
   "outputs": [],
   "source": [
    "# one-hot encode 'track_genre'\n",
    "ohe = OneHotEncoder(sparse_output=False, handle_unknown='ignore')\n",
    "genre_encoded = ohe.fit_transform(df_train_cleaned[['track_genre']])\n",
    "\n",
    "# apply pca\n",
    "n_variance = 0.90 # Keep up to 90% of the variance, test also with lower values\n",
    "\n",
    "pca = PCA(n_components=n_variance)  \n",
    "genre_pca = pca.fit_transform(genre_encoded)\n",
    "\n",
    "print(f\"Number of PCA components: {pca.n_components_}\")\n",
    "\n",
    "# create a DataFrame for PCA results\n",
    "genre_pca_df = pd.DataFrame(genre_pca, columns=[f'genre_pca_{i}' for i in range(pca.n_components_)], index=df_train_cleaned.index)\n",
    "genre_pca_df.head()"
   ]
  },
  {
   "cell_type": "code",
   "execution_count": null,
   "id": "8ee1bd28",
   "metadata": {},
   "outputs": [],
   "source": [
    "# plot the explained variance ratio\n",
    "fig, ax = plt.subplots(figsize=(10, 6))\n",
    "ax.plot(np.cumsum(pca.explained_variance_ratio_), marker='o')\n",
    "ax.set_xlabel('Number of PCA Components')\n",
    "ax.set_ylabel('Cumulative Explained Variance')\n",
    "ax.set_title('Scree Plot: PCA on track_genre')\n",
    "ax.grid(True)\n",
    "ax.axhline(y=n_variance, color='r', linestyle='--', label=f'{n_variance*100}% threshold')\n",
    "ax.legend();"
   ]
  },
  {
   "cell_type": "markdown",
   "id": "38155140",
   "metadata": {},
   "source": [
    "The pca for track_genre has not been very helpful. Will not be used."
   ]
  }
 ],
 "metadata": {
  "kernelspec": {
   "display_name": ".venv",
   "language": "python",
   "name": "python3"
  },
  "language_info": {
   "codemirror_mode": {
    "name": "ipython",
    "version": 3
   },
   "file_extension": ".py",
   "mimetype": "text/x-python",
   "name": "python",
   "nbconvert_exporter": "python",
   "pygments_lexer": "ipython3",
   "version": "3.13.3"
  }
 },
 "nbformat": 4,
 "nbformat_minor": 5
}
