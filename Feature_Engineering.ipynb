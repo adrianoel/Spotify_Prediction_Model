{
 "cells": [
  {
   "cell_type": "markdown",
   "id": "eaa03c26",
   "metadata": {},
   "source": [
    "# Feature Engineering (Spotify Track Data)  \n",
    "\n",
    "### Recategorize \"popularity\" target column for classifier models"
   ]
  },
  {
   "cell_type": "code",
   "execution_count": null,
   "id": "432bec8f",
   "metadata": {},
   "outputs": [],
   "source": [
    "# importing modules\n",
    "import pandas as pd\n",
    "import numpy as np\n",
    "import matplotlib.pyplot as plt\n",
    "import seaborn as sns\n",
    "\n",
    "from sklearn.decomposition import PCA\n",
    "from sklearn.model_selection import train_test_split\n",
    "from sklearn.pipeline import Pipeline\n",
    "from sklearn.preprocessing import OneHotEncoder\n",
    "from sklearn.compose import ColumnTransformer\n",
    "from sklearn.model_selection import validation_curve"
   ]
  },
  {
   "cell_type": "code",
   "execution_count": null,
   "id": "c8c86938",
   "metadata": {},
   "outputs": [],
   "source": [
    "# read data\n",
    "df = pd.read_csv('data/spotify_dataset.csv')\n",
    "df.head()"
   ]
  },
  {
   "cell_type": "markdown",
   "id": "ae940461",
   "metadata": {},
   "source": [
    "### Train-Test-Splits"
   ]
  },
  {
   "cell_type": "code",
   "execution_count": null,
   "id": "84c6681b",
   "metadata": {},
   "outputs": [],
   "source": [
    "# Train-Test-Split\n",
    "df_train, df_test = train_test_split(df, test_size = 0.3, random_state = 42)\n",
    "\n",
    "print('df_train: ', df_train.shape)\n",
    "print('df_test: ', df_test.shape)\n",
    "\n",
    "# Second Train-Test-Split for val/aim data\n",
    "df_test, df_val = train_test_split(df_test, test_size=0.33, random_state = 42)\n",
    "\n",
    "print('df_test: ', df_test.shape)\n",
    "print('df_val: ', df_val.shape)"
   ]
  },
  {
   "cell_type": "markdown",
   "id": "9c9052bd",
   "metadata": {},
   "source": [
    "### Data cleaning"
   ]
  },
  {
   "cell_type": "code",
   "execution_count": null,
   "id": "76d75460",
   "metadata": {},
   "outputs": [],
   "source": [
    "from src.features.clean_data_func import clean_data\n",
    "\n",
    "#apply clean_data function on train data\n",
    "df_train_cleaned = clean_data(df_train)\n",
    "display(df_train_cleaned.head())\n",
    "\n",
    "#apply clean_data function on test and val data\n",
    "df_test_cleaned = clean_data(df_test)\n",
    "df_val_cleaned = clean_data(df_val)"
   ]
  },
  {
   "cell_type": "code",
   "execution_count": null,
   "id": "740d958b",
   "metadata": {},
   "outputs": [],
   "source": [
    "# redefine CAT_COLS for later one hot encoding (some may need to be dropped/changed or go through a PCA first)\n",
    "\n",
    "CAT_COLS_NEW = [\n",
    "    'artists',\n",
    "    'album_name',\n",
    "    'track_name',\n",
    "    'explicit',\n",
    "    'track_genre',\n",
    "    'key',\n",
    "    'mode',\n",
    "    'time_signature']\n",
    "\n",
    "# check unique value count again\n",
    "print(f'{\"columns\":<20}{\"# unique values\"}')\n",
    "print('-'*40)\n",
    "for col in CAT_COLS_NEW:\n",
    "    print(f'{col:<20}{df_train_cleaned[col].nunique()}')"
   ]
  },
  {
   "cell_type": "markdown",
   "id": "66ce2d55",
   "metadata": {},
   "source": [
    "### Notes for categorical columns & further feature engineering:\n",
    "- feature engineer new columns out of the 3 columns with too many unique values: \"artists\", \"album_name\", \"track_name\"\n",
    "    - Artist/Album Popularity: The popularity of an artist or album is derived from track popularity, which means tracks by highly popular artists or albums will tend to have higher popularity\n",
    "    - Convert track_name length to numeric since shorter or longer names can have an impact on popularity (track name like \"Burn\" vs. \"Fantasy on a long road\", etc.) and this way track_name data is somewhat usable for the model\n",
    "- try a pca for \"track_genre\" since 113 values is a bit too much for one hot encoding, or group it by popularity as well if pca is not helping"
   ]
  },
  {
   "cell_type": "markdown",
   "id": "6ebad689",
   "metadata": {},
   "source": [
    "### New features: Artist & Album Popularity"
   ]
  },
  {
   "cell_type": "code",
   "execution_count": null,
   "id": "0c054947",
   "metadata": {},
   "outputs": [],
   "source": [
    "# use mean track popularity per artist\n",
    "artist_popularity = df_train_cleaned.groupby('artists')['popularity'].mean().to_dict()\n",
    "df_train_cleaned['artist_popularity'] = df_train_cleaned['artists'].map(artist_popularity)\n",
    "\n",
    "df_train_cleaned['artist_popularity'].value_counts()"
   ]
  },
  {
   "cell_type": "code",
   "execution_count": null,
   "id": "caab2ee4",
   "metadata": {},
   "outputs": [],
   "source": [
    "# use mean track popularity per album\n",
    "album_popularity = df_train_cleaned.groupby('album_name')['popularity'].mean().to_dict()\n",
    "df_train_cleaned['album_popularity'] = df_train_cleaned['album_name'].map(album_popularity)\n",
    "\n",
    "df_train_cleaned['album_popularity'].value_counts()"
   ]
  },
  {
   "cell_type": "markdown",
   "id": "496a8df8",
   "metadata": {},
   "source": [
    "### New feature: Track name length"
   ]
  },
  {
   "cell_type": "code",
   "execution_count": null,
   "id": "45ce4b8a",
   "metadata": {},
   "outputs": [],
   "source": [
    "# get length of track name for new column\n",
    "df_train_cleaned['track_name_length'] = df_train_cleaned['track_name'].str.len()\n",
    "\n",
    "df_train_cleaned['track_name_length'].value_counts()"
   ]
  },
  {
   "cell_type": "markdown",
   "id": "67a84883",
   "metadata": {},
   "source": [
    "### PCA for track genres to reduce dimensionality"
   ]
  },
  {
   "cell_type": "code",
   "execution_count": null,
   "id": "e8450fa6",
   "metadata": {},
   "outputs": [],
   "source": [
    "# one-hot encode 'track_genre'\n",
    "ohe = OneHotEncoder(sparse_output=False, handle_unknown='ignore')\n",
    "genre_encoded = ohe.fit_transform(df_train_cleaned[['track_genre']])\n",
    "\n",
    "# apply pca\n",
    "n_variance = 0.90 # Keep up to 90% of the variance, test also with lower values\n",
    "\n",
    "pca = PCA(n_components=n_variance)  \n",
    "genre_pca = pca.fit_transform(genre_encoded)\n",
    "\n",
    "print(f\"Number of PCA components: {pca.n_components_}\")\n",
    "\n",
    "# create a DataFrame for PCA results\n",
    "genre_pca_df = pd.DataFrame(genre_pca, columns=[f'genre_pca_{i}' for i in range(pca.n_components_)], index=df_train_cleaned.index)\n",
    "genre_pca_df.head()"
   ]
  },
  {
   "cell_type": "code",
   "execution_count": null,
   "id": "8ee1bd28",
   "metadata": {},
   "outputs": [],
   "source": [
    "# plot the explained variance ratio\n",
    "fig, ax = plt.subplots(figsize=(10, 6))\n",
    "ax.plot(np.cumsum(pca.explained_variance_ratio_), marker='o')\n",
    "ax.set_xlabel('Number of PCA Components')\n",
    "ax.set_ylabel('Cumulative Explained Variance')\n",
    "ax.set_title('Scree Plot: PCA on track_genre')\n",
    "ax.grid(True)\n",
    "ax.axhline(y=n_variance, color='r', linestyle='--', label=f'{n_variance*100}% threshold')\n",
    "ax.legend();"
   ]
  },
  {
   "cell_type": "markdown",
   "id": "38155140",
   "metadata": {},
   "source": [
    "The pca for track_genre has not been very helpful. Let's try something else: Use **mean of popularity** (like for album popularity, for example) **for each genre** to create numerical values as a feature."
   ]
  },
  {
   "cell_type": "code",
   "execution_count": null,
   "id": "9505edab",
   "metadata": {},
   "outputs": [],
   "source": [
    "# use mean track popularity per genre\n",
    "genre_popularity = df_train_cleaned.groupby('track_genre')['popularity'].mean()\n",
    "df_train_cleaned['track_genre_pop'] = df_train_cleaned['track_genre'].map(genre_popularity)\n",
    "\n",
    "df_train_cleaned['track_genre_pop'].value_counts()"
   ]
  },
  {
   "cell_type": "code",
   "execution_count": null,
   "id": "859de7f6",
   "metadata": {},
   "outputs": [],
   "source": [
    "# possible feature columns to drop for later features dataframe\n",
    "features_to_drop = [\n",
    "    'track_id',\n",
    "    'artists',\n",
    "    'album_name',\n",
    "    'track_name',\n",
    "    'track_genre',\n",
    "    'popularity',\n",
    "    'popularity_cat']\n",
    "\n",
    "## 'popularity' is needed for the fit and transform of the engineered features for df_train, df_test and df_aim, but not for the final features dataframe column transformer"
   ]
  }
 ],
 "metadata": {
  "kernelspec": {
   "display_name": ".venv",
   "language": "python",
   "name": "python3"
  },
  "language_info": {
   "codemirror_mode": {
    "name": "ipython",
    "version": 3
   },
   "file_extension": ".py",
   "mimetype": "text/x-python",
   "name": "python",
   "nbconvert_exporter": "python",
   "pygments_lexer": "ipython3",
   "version": "3.13.3"
  }
 },
 "nbformat": 4,
 "nbformat_minor": 5
}
